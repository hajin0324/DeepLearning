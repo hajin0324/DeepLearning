{
  "nbformat": 4,
  "nbformat_minor": 0,
  "metadata": {
    "colab": {
      "provenance": [],
      "authorship_tag": "ABX9TyN0fqgBPWpQkQadDGAF2P1Q",
      "include_colab_link": true
    },
    "kernelspec": {
      "name": "python3",
      "display_name": "Python 3"
    },
    "language_info": {
      "name": "python"
    }
  },
  "cells": [
    {
      "cell_type": "markdown",
      "metadata": {
        "id": "view-in-github",
        "colab_type": "text"
      },
      "source": [
        "<a href=\"https://colab.research.google.com/github/hajin0324/DeepLearning/blob/main/MNIST_Classification.ipynb\" target=\"_parent\"><img src=\"https://colab.research.google.com/assets/colab-badge.svg\" alt=\"Open In Colab\"/></a>"
      ]
    },
    {
      "cell_type": "markdown",
      "source": [
        "**케라스에서 MNIST 데이터셋 적재**"
      ],
      "metadata": {
        "id": "_NoPX9teYetP"
      }
    },
    {
      "cell_type": "code",
      "execution_count": 136,
      "metadata": {
        "id": "Dwhc4KSODotL"
      },
      "outputs": [],
      "source": [
        "from tensorflow.keras.datasets import mnist\n",
        "(train_images, train_labels), (test_images, test_labels) = mnist.load_data()"
      ]
    },
    {
      "cell_type": "markdown",
      "source": [
        "**training data**"
      ],
      "metadata": {
        "id": "34Nthk2Ioa16"
      }
    },
    {
      "cell_type": "code",
      "source": [
        "# train_images의 차원\n",
        "train_images.shape"
      ],
      "metadata": {
        "colab": {
          "base_uri": "https://localhost:8080/"
        },
        "id": "AhEP7sIQD9nr",
        "outputId": "933fc53a-3a17-4ede-bc5f-788de51c0404"
      },
      "execution_count": 137,
      "outputs": [
        {
          "output_type": "execute_result",
          "data": {
            "text/plain": [
              "(60000, 28, 28)"
            ]
          },
          "metadata": {},
          "execution_count": 137
        }
      ]
    },
    {
      "cell_type": "code",
      "source": [
        "# train_labels의 길이\n",
        "len(train_labels)"
      ],
      "metadata": {
        "colab": {
          "base_uri": "https://localhost:8080/"
        },
        "id": "Zi8bG5VKEBWY",
        "outputId": "e45935b5-63ef-4b0a-c96e-26ff366bd051"
      },
      "execution_count": 138,
      "outputs": [
        {
          "output_type": "execute_result",
          "data": {
            "text/plain": [
              "60000"
            ]
          },
          "metadata": {},
          "execution_count": 138
        }
      ]
    },
    {
      "cell_type": "code",
      "source": [
        "# train_labels 출력\n",
        "train_labels"
      ],
      "metadata": {
        "colab": {
          "base_uri": "https://localhost:8080/"
        },
        "id": "ZawpT2AMEC8Q",
        "outputId": "fb1e737d-c4f9-4595-f2a6-44726fc83ca3"
      },
      "execution_count": 139,
      "outputs": [
        {
          "output_type": "execute_result",
          "data": {
            "text/plain": [
              "array([5, 0, 4, ..., 5, 6, 8], dtype=uint8)"
            ]
          },
          "metadata": {},
          "execution_count": 139
        }
      ]
    },
    {
      "cell_type": "markdown",
      "source": [
        "**test data**"
      ],
      "metadata": {
        "id": "4rcSGTjVotTB"
      }
    },
    {
      "cell_type": "code",
      "source": [
        "# test_images의 차원\n",
        "test_images.shape"
      ],
      "metadata": {
        "colab": {
          "base_uri": "https://localhost:8080/"
        },
        "id": "CKzFb5j_EMgo",
        "outputId": "764a4123-bce8-4af3-b193-87ac89c6a5d7"
      },
      "execution_count": 140,
      "outputs": [
        {
          "output_type": "execute_result",
          "data": {
            "text/plain": [
              "(10000, 28, 28)"
            ]
          },
          "metadata": {},
          "execution_count": 140
        }
      ]
    },
    {
      "cell_type": "code",
      "source": [
        "# test_labels의 길이\n",
        "len(test_labels)"
      ],
      "metadata": {
        "colab": {
          "base_uri": "https://localhost:8080/"
        },
        "id": "QLQsnH3-ERII",
        "outputId": "db8f6081-f278-4507-f661-ab3ffc16ae9a"
      },
      "execution_count": 141,
      "outputs": [
        {
          "output_type": "execute_result",
          "data": {
            "text/plain": [
              "10000"
            ]
          },
          "metadata": {},
          "execution_count": 141
        }
      ]
    },
    {
      "cell_type": "code",
      "source": [
        "# test_labels 출력\n",
        "test_labels"
      ],
      "metadata": {
        "colab": {
          "base_uri": "https://localhost:8080/"
        },
        "id": "SikUSGZ6EUsQ",
        "outputId": "bba8921b-7bb5-4144-c349-d9aa9d0e6f25"
      },
      "execution_count": 142,
      "outputs": [
        {
          "output_type": "execute_result",
          "data": {
            "text/plain": [
              "array([7, 2, 1, ..., 4, 5, 6], dtype=uint8)"
            ]
          },
          "metadata": {},
          "execution_count": 142
        }
      ]
    },
    {
      "cell_type": "markdown",
      "source": [
        "**신경망 구조**"
      ],
      "metadata": {
        "id": "KBP5HCKbYjLl"
      }
    },
    {
      "cell_type": "code",
      "source": [
        "from tensorflow import keras\n",
        "from tensorflow.keras import layers\n",
        "# from tensorflow.keras.laers import Dense\n",
        "\n",
        "model = keras.Sequential([\n",
        "    layers.Dense(512, activation=\"relu\"),\n",
        "    layers.Dense(10, activation=\"softmax\")\n",
        "# == tensorflow.keras.layers.Dense(10, activation=\"softmax\")\n",
        "# == keras.layers.Dense(10, activation=\"softmax\")\n",
        "# == Dense(10, activation=\"softmax\")\n",
        "])"
      ],
      "metadata": {
        "id": "58Ei7ql4EVog"
      },
      "execution_count": 143,
      "outputs": []
    },
    {
      "cell_type": "markdown",
      "source": [
        "층(layer)\n",
        "* 데이터를 위한 필터\n",
        "* 주어진 문제에 더 의미 있는 표현을 입력된 데이터로부터 추출   \n",
        "\n",
        "Sequential : 순차적으로 layer 층을 더해줌  \n",
        "\n",
        "2개의 Dense층\n",
        "\n",
        "* relu : 0보다 작으면 0, 0보다 크면 입력 값 그대로 출력\n",
        "* softmax : 입력받은 값을 0 ~ 1 사이의 값으로 정규화, 출력 값들의 총합 = 1\n",
        "\n"
      ],
      "metadata": {
        "id": "AqMGXq1PGpv6"
      }
    },
    {
      "cell_type": "markdown",
      "source": [
        "**컴파일 단계**"
      ],
      "metadata": {
        "id": "r4R0mJP-Yrkl"
      }
    },
    {
      "cell_type": "code",
      "source": [
        "model.compile(optimizer=\"rmsprop\",\n",
        "              loss = \"sparse_categorical_crossentropy\",\n",
        "              metrics=[\"accuracy\"])"
      ],
      "metadata": {
        "id": "Ppz9NlunH8kp"
      },
      "execution_count": 144,
      "outputs": []
    },
    {
      "cell_type": "markdown",
      "source": [
        "훈련 준비를 마치기 위해 컴파일 단계에 포함될 세 가지\n",
        "* 옵티마이저(optimizer) : 성능을 향상시키기 위해 입력된 데이터를 기반으로 모델을 업데이트하는 메커니즘  \n",
        "rmsprop(Root Mean Sqaure Propagation) : 지수이동평균(Exponential Moving Average)을 활용하여 기울기 업데이트\n",
        "* 손실 함수(loss function) : 훈련 데이터에서 모델의 성능을 측정하는 방법으로 모델이 옳은 방향으로 학습될 수 있도록 도와줌  \n",
        "sparse_categorical_crossentropy : one-hot encoding 생략 시\n",
        "* 훈련과 테스트 과정을 모니터링할 지표"
      ],
      "metadata": {
        "id": "IxXUcnAhH80h"
      }
    },
    {
      "cell_type": "markdown",
      "source": [
        "**이미지 데이터 준비**"
      ],
      "metadata": {
        "id": "7sAq5d-tYu8F"
      }
    },
    {
      "cell_type": "code",
      "source": [
        "train_images = train_images.reshape((60000, 28 * 28))\n",
        "# (60000, 28 * 28) == (60000, -1) == (-1, 28 * 28)\n",
        "# 28 * 28 size 이미지가 60000개\n",
        "train_images = train_images.astype(\"float32\") / 255\n",
        "test_images = test_images.reshape((10000, 28 * 28))\n",
        "test_images = test_images.astype(\"float32\") / 255"
      ],
      "metadata": {
        "id": "9_PCWzUjFabx"
      },
      "execution_count": 145,
      "outputs": []
    },
    {
      "cell_type": "markdown",
      "source": [
        "데이터를 모델에 맞는 크기로 바꾸고 모든 값을 0과 1 사이로 스케일 조정  \n",
        "[0, 255] 사이의 값인 unit8 타입의 (60000, 28, 28) 크기의 배열  \n",
        "→ 0과 1 사이의 값을 가지는 float32 타입의 (60000, 28* 28) 크기의 배열"
      ],
      "metadata": {
        "id": "kVRfNCDOKP06"
      }
    },
    {
      "cell_type": "markdown",
      "source": [
        "**모델 훈련하기**"
      ],
      "metadata": {
        "id": "wDvtNInGYxke"
      }
    },
    {
      "cell_type": "code",
      "source": [
        "model.fit(train_images, train_labels, epochs=5, batch_size=128)"
      ],
      "metadata": {
        "colab": {
          "base_uri": "https://localhost:8080/"
        },
        "id": "zGU6xWPXKDyR",
        "outputId": "dc7e3d2d-5b2a-41a4-9414-d808aa880dfb"
      },
      "execution_count": 146,
      "outputs": [
        {
          "output_type": "stream",
          "name": "stdout",
          "text": [
            "Epoch 1/5\n",
            "469/469 [==============================] - 5s 10ms/step - loss: 0.2650 - accuracy: 0.9236\n",
            "Epoch 2/5\n",
            "469/469 [==============================] - 5s 10ms/step - loss: 0.1064 - accuracy: 0.9686\n",
            "Epoch 3/5\n",
            "469/469 [==============================] - 6s 12ms/step - loss: 0.0707 - accuracy: 0.9788\n",
            "Epoch 4/5\n",
            "469/469 [==============================] - 5s 10ms/step - loss: 0.0507 - accuracy: 0.9849\n",
            "Epoch 5/5\n",
            "469/469 [==============================] - 6s 12ms/step - loss: 0.0388 - accuracy: 0.9887\n"
          ]
        },
        {
          "output_type": "execute_result",
          "data": {
            "text/plain": [
              "<keras.callbacks.History at 0x7f786056f490>"
            ]
          },
          "metadata": {},
          "execution_count": 146
        }
      ]
    },
    {
      "cell_type": "markdown",
      "source": [
        "케라스에서는 모델의 fit() 메서드를 호출하여 훈련 데이터에 모델을 학습\n",
        "* epochs : 전체 트레이닝 셋이 신경망을 통화한 횟수\n",
        "* batch_size : 전체 training dataset을 작은 그룹으로 나누었을 때 하나의 소그룹에 속하는 데이터 수"
      ],
      "metadata": {
        "id": "PqOAQbVbm3wC"
      }
    },
    {
      "cell_type": "markdown",
      "source": [
        "**모델을 사용하여 예측 만들기**"
      ],
      "metadata": {
        "id": "63r5GtvYY0BF"
      }
    },
    {
      "cell_type": "code",
      "source": [
        "test_digits = test_images[0:10]  # 10장의 이미지\n",
        "predictions = model.predict(test_digits)\n",
        "predictions[0]"
      ],
      "metadata": {
        "id": "MpyxsN7GLG9C",
        "colab": {
          "base_uri": "https://localhost:8080/"
        },
        "outputId": "f13e1024-472c-476f-d73a-df562c93c169"
      },
      "execution_count": 147,
      "outputs": [
        {
          "output_type": "stream",
          "name": "stdout",
          "text": [
            "1/1 [==============================] - 0s 54ms/step\n"
          ]
        },
        {
          "output_type": "execute_result",
          "data": {
            "text/plain": [
              "array([1.5106618e-08, 2.7941301e-08, 1.8546916e-06, 9.2540977e-05,\n",
              "       2.9256899e-11, 3.6144183e-08, 2.6461455e-12, 9.9988931e-01,\n",
              "       5.7069439e-08, 1.6033340e-05], dtype=float32)"
            ]
          },
          "metadata": {},
          "execution_count": 147
        }
      ]
    },
    {
      "cell_type": "markdown",
      "source": [
        "인덱스 i에 있는 숫자는 숫자 이미지 test_digits[0]이 클래스 i에 속할 확률"
      ],
      "metadata": {
        "id": "KZ2afq4DXYzu"
      }
    },
    {
      "cell_type": "code",
      "source": [
        "# 여러 개의 수 중에서 가장 큰 값의 인덱스\n",
        "predictions[0].argmax()"
      ],
      "metadata": {
        "id": "9GFPVedbNEPD",
        "colab": {
          "base_uri": "https://localhost:8080/"
        },
        "outputId": "8841f1a4-6a40-4cfc-9207-8bdce2f09002"
      },
      "execution_count": 148,
      "outputs": [
        {
          "output_type": "execute_result",
          "data": {
            "text/plain": [
              "7"
            ]
          },
          "metadata": {},
          "execution_count": 148
        }
      ]
    },
    {
      "cell_type": "code",
      "source": [
        "# 첫번째 이미지의 인덱스 7의 확률\n",
        "predictions[0][7] "
      ],
      "metadata": {
        "id": "Fe64ZAhYNUb6",
        "colab": {
          "base_uri": "https://localhost:8080/"
        },
        "outputId": "aa7e1ef1-2a35-45be-8c6d-761305880c02"
      },
      "execution_count": 149,
      "outputs": [
        {
          "output_type": "execute_result",
          "data": {
            "text/plain": [
              "0.9998893"
            ]
          },
          "metadata": {},
          "execution_count": 149
        }
      ]
    },
    {
      "cell_type": "code",
      "source": [
        "# 테스트 데이터의 레이블과 맞는지 확인\n",
        "test_labels[0]"
      ],
      "metadata": {
        "id": "N9ACuw9cNVoq",
        "colab": {
          "base_uri": "https://localhost:8080/"
        },
        "outputId": "c3dba257-d33c-4670-a782-6eeb8343b5c4"
      },
      "execution_count": 150,
      "outputs": [
        {
          "output_type": "execute_result",
          "data": {
            "text/plain": [
              "7"
            ]
          },
          "metadata": {},
          "execution_count": 150
        }
      ]
    },
    {
      "cell_type": "markdown",
      "source": [
        "**새로운 데이터에서 모델 평가**"
      ],
      "metadata": {
        "id": "cp5_wL8NY3y9"
      }
    },
    {
      "cell_type": "code",
      "source": [
        "test_loss, test_acc = model.evaluate(test_images, test_labels)\n",
        "print(f\"테스트 정확도 : {test_acc}\")"
      ],
      "metadata": {
        "id": "u9CRaQS4NbVD",
        "colab": {
          "base_uri": "https://localhost:8080/"
        },
        "outputId": "239ffdb8-34cc-4066-dbb8-5f76858c1f7f"
      },
      "execution_count": 151,
      "outputs": [
        {
          "output_type": "stream",
          "name": "stdout",
          "text": [
            "313/313 [==============================] - 1s 3ms/step - loss: 0.0679 - accuracy: 0.9791\n",
            "테스트 정확도 : 0.9790999889373779\n"
          ]
        }
      ]
    }
  ]
}