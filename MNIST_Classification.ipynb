{
  "nbformat": 4,
  "nbformat_minor": 0,
  "metadata": {
    "colab": {
      "provenance": [],
      "authorship_tag": "ABX9TyNrNGjMSEj62QFty6cc9hUh",
      "include_colab_link": true
    },
    "kernelspec": {
      "name": "python3",
      "display_name": "Python 3"
    },
    "language_info": {
      "name": "python"
    }
  },
  "cells": [
    {
      "cell_type": "markdown",
      "metadata": {
        "id": "view-in-github",
        "colab_type": "text"
      },
      "source": [
        "<a href=\"https://colab.research.google.com/github/hajin0324/DeepLearning/blob/main/MNIST_Classification.ipynb\" target=\"_parent\"><img src=\"https://colab.research.google.com/assets/colab-badge.svg\" alt=\"Open In Colab\"/></a>"
      ]
    },
    {
      "cell_type": "markdown",
      "source": [
        "**케라스에서 MNIST 데이터셋 적재**"
      ],
      "metadata": {
        "id": "_NoPX9teYetP"
      }
    },
    {
      "cell_type": "code",
      "execution_count": 120,
      "metadata": {
        "id": "Dwhc4KSODotL"
      },
      "outputs": [],
      "source": [
        "from tensorflow.keras.datasets import mnist\n",
        "(train_images, train_labels), (test_images, test_labels) = mnist.load_data()"
      ]
    },
    {
      "cell_type": "code",
      "source": [
        "# training data\n",
        "train_images.shape"
      ],
      "metadata": {
        "colab": {
          "base_uri": "https://localhost:8080/"
        },
        "id": "AhEP7sIQD9nr",
        "outputId": "48d4a329-66bd-4ae0-a96d-2534a41b8539"
      },
      "execution_count": 121,
      "outputs": [
        {
          "output_type": "execute_result",
          "data": {
            "text/plain": [
              "(60000, 28, 28)"
            ]
          },
          "metadata": {},
          "execution_count": 121
        }
      ]
    },
    {
      "cell_type": "code",
      "source": [
        "len(train_labels)"
      ],
      "metadata": {
        "colab": {
          "base_uri": "https://localhost:8080/"
        },
        "id": "Zi8bG5VKEBWY",
        "outputId": "87da2af2-b582-4f22-f1d7-ff51c0cc3c07"
      },
      "execution_count": 122,
      "outputs": [
        {
          "output_type": "execute_result",
          "data": {
            "text/plain": [
              "60000"
            ]
          },
          "metadata": {},
          "execution_count": 122
        }
      ]
    },
    {
      "cell_type": "code",
      "source": [
        "train_labels"
      ],
      "metadata": {
        "colab": {
          "base_uri": "https://localhost:8080/"
        },
        "id": "ZawpT2AMEC8Q",
        "outputId": "48bb3a62-0e3f-4248-d4d0-ac4f2fafa235"
      },
      "execution_count": 123,
      "outputs": [
        {
          "output_type": "execute_result",
          "data": {
            "text/plain": [
              "array([5, 0, 4, ..., 5, 6, 8], dtype=uint8)"
            ]
          },
          "metadata": {},
          "execution_count": 123
        }
      ]
    },
    {
      "cell_type": "code",
      "source": [
        "# test data\n",
        "test_images.shape"
      ],
      "metadata": {
        "colab": {
          "base_uri": "https://localhost:8080/"
        },
        "id": "CKzFb5j_EMgo",
        "outputId": "7616575c-f315-4f01-ea84-58a28c6c6291"
      },
      "execution_count": 124,
      "outputs": [
        {
          "output_type": "execute_result",
          "data": {
            "text/plain": [
              "(10000, 28, 28)"
            ]
          },
          "metadata": {},
          "execution_count": 124
        }
      ]
    },
    {
      "cell_type": "code",
      "source": [
        "len(test_labels)"
      ],
      "metadata": {
        "colab": {
          "base_uri": "https://localhost:8080/"
        },
        "id": "QLQsnH3-ERII",
        "outputId": "87a10994-0d28-4f80-899c-d36441823a1c"
      },
      "execution_count": 125,
      "outputs": [
        {
          "output_type": "execute_result",
          "data": {
            "text/plain": [
              "10000"
            ]
          },
          "metadata": {},
          "execution_count": 125
        }
      ]
    },
    {
      "cell_type": "code",
      "source": [
        "test_labels"
      ],
      "metadata": {
        "colab": {
          "base_uri": "https://localhost:8080/"
        },
        "id": "SikUSGZ6EUsQ",
        "outputId": "27d5728c-a371-4b81-df27-4504543e3c63"
      },
      "execution_count": 126,
      "outputs": [
        {
          "output_type": "execute_result",
          "data": {
            "text/plain": [
              "array([7, 2, 1, ..., 4, 5, 6], dtype=uint8)"
            ]
          },
          "metadata": {},
          "execution_count": 126
        }
      ]
    },
    {
      "cell_type": "markdown",
      "source": [
        "**신경망 구조**"
      ],
      "metadata": {
        "id": "KBP5HCKbYjLl"
      }
    },
    {
      "cell_type": "code",
      "source": [
        "from tensorflow import keras\n",
        "from tensorflow.keras import layers\n",
        "\n",
        "model = keras.Sequential([\n",
        "    layers.Dense(512, activation=\"relu\"),\n",
        "    layers.Dense(10, activation=\"softmax\")\n",
        "])"
      ],
      "metadata": {
        "id": "58Ei7ql4EVog"
      },
      "execution_count": 127,
      "outputs": []
    },
    {
      "cell_type": "markdown",
      "source": [
        "층(layer)\n",
        "* 데이터를 위한 필터\n",
        "* 주어진 문제에 더 의미 있는 표현을 입력된 데이터로부터 추출\n",
        "\n"
      ],
      "metadata": {
        "id": "AqMGXq1PGpv6"
      }
    },
    {
      "cell_type": "markdown",
      "source": [
        "**컴파일 단계**"
      ],
      "metadata": {
        "id": "r4R0mJP-Yrkl"
      }
    },
    {
      "cell_type": "code",
      "source": [
        "model.compile(optimizer=\"rmsprop\",\n",
        "              loss = \"sparse_categorical_crossentropy\",\n",
        "              metrics=[\"accuracy\"])"
      ],
      "metadata": {
        "id": "Ppz9NlunH8kp"
      },
      "execution_count": 128,
      "outputs": []
    },
    {
      "cell_type": "markdown",
      "source": [
        "훈련 준비를 마치기 위해 컴파일 단계에 포함될 세 가지\n",
        "* 옵티마이저(optimizer) : 성능을 향상시키기 위해 입력된 데이터를 기반으로 모델을 업데이트하는 메커니즘\n",
        "* 손실 함수(loss function) : 훈련 데이터에서 모델의 성능을 측정하는 방법으로 모델이 옳은 방향으로 학습될 수 있도록 도와줌\n",
        "* 훈련과 테스트 과정을 모니터링할 지표 "
      ],
      "metadata": {
        "id": "IxXUcnAhH80h"
      }
    },
    {
      "cell_type": "markdown",
      "source": [
        "**이미지 데이터 준비**"
      ],
      "metadata": {
        "id": "7sAq5d-tYu8F"
      }
    },
    {
      "cell_type": "code",
      "source": [
        "train_images = train_images.reshape((60000, 28 * 28))\n",
        "train_images = train_images.astype(\"float32\") / 255\n",
        "test_images = test_images.reshape((10000, 28 * 28))\n",
        "test_images = test_images.astype(\"float32\") / 255"
      ],
      "metadata": {
        "id": "9_PCWzUjFabx"
      },
      "execution_count": 129,
      "outputs": []
    },
    {
      "cell_type": "markdown",
      "source": [
        "데이터를 모델에 맞는 크기로 바꾸고 모든 값을 0과 1 사이로 스케일 조정  \n",
        "[0, 255] 사이의 값인 unit8 타입의 (60000, 28, 28) 크기의 배열  \n",
        "-> 0과 1 사이의 값을 가지는 float32 타입의 (60000, 28* 28) 크기의 배열\n",
        "\n"
      ],
      "metadata": {
        "id": "kVRfNCDOKP06"
      }
    },
    {
      "cell_type": "markdown",
      "source": [
        "**모델 훈련하기**"
      ],
      "metadata": {
        "id": "wDvtNInGYxke"
      }
    },
    {
      "cell_type": "code",
      "source": [
        "model.fit(train_images, train_labels, epochs=5, batch_size=128)"
      ],
      "metadata": {
        "colab": {
          "base_uri": "https://localhost:8080/"
        },
        "id": "zGU6xWPXKDyR",
        "outputId": "b06ef999-0c4d-4c98-b8e1-c87bbecb4a38"
      },
      "execution_count": 130,
      "outputs": [
        {
          "output_type": "stream",
          "name": "stdout",
          "text": [
            "Epoch 1/5\n",
            "469/469 [==============================] - 7s 11ms/step - loss: 0.2686 - accuracy: 0.9215\n",
            "Epoch 2/5\n",
            "469/469 [==============================] - 5s 10ms/step - loss: 0.1076 - accuracy: 0.9675\n",
            "Epoch 3/5\n",
            "469/469 [==============================] - 6s 12ms/step - loss: 0.0711 - accuracy: 0.9788\n",
            "Epoch 4/5\n",
            "469/469 [==============================] - 5s 10ms/step - loss: 0.0513 - accuracy: 0.9848\n",
            "Epoch 5/5\n",
            "469/469 [==============================] - 5s 10ms/step - loss: 0.0384 - accuracy: 0.9885\n"
          ]
        },
        {
          "output_type": "execute_result",
          "data": {
            "text/plain": [
              "<keras.callbacks.History at 0x7f785d418e20>"
            ]
          },
          "metadata": {},
          "execution_count": 130
        }
      ]
    },
    {
      "cell_type": "markdown",
      "source": [
        "**모델을 사용하여 예측 만들기**"
      ],
      "metadata": {
        "id": "63r5GtvYY0BF"
      }
    },
    {
      "cell_type": "code",
      "source": [
        "test_digits = test_images[0:10]\n",
        "predictions = model.predict(test_digits)\n",
        "predictions[0]"
      ],
      "metadata": {
        "id": "MpyxsN7GLG9C",
        "colab": {
          "base_uri": "https://localhost:8080/"
        },
        "outputId": "e9f2b1b4-1c5e-46b9-8b07-fee0ad7701e3"
      },
      "execution_count": 131,
      "outputs": [
        {
          "output_type": "stream",
          "name": "stdout",
          "text": [
            "1/1 [==============================] - 0s 89ms/step\n"
          ]
        },
        {
          "output_type": "execute_result",
          "data": {
            "text/plain": [
              "array([3.8658641e-07, 3.4269146e-08, 2.0618245e-06, 2.4903391e-04,\n",
              "       6.9504368e-11, 5.8852572e-07, 5.2117733e-12, 9.9973083e-01,\n",
              "       1.8457416e-06, 1.5235548e-05], dtype=float32)"
            ]
          },
          "metadata": {},
          "execution_count": 131
        }
      ]
    },
    {
      "cell_type": "markdown",
      "source": [
        "인덱스 i에 있는 숫자는 숫자 이미지 test_digits[0]이 클래스 i에 속할 확률"
      ],
      "metadata": {
        "id": "KZ2afq4DXYzu"
      }
    },
    {
      "cell_type": "code",
      "source": [
        "predictions[0].argmax()"
      ],
      "metadata": {
        "id": "9GFPVedbNEPD",
        "colab": {
          "base_uri": "https://localhost:8080/"
        },
        "outputId": "0da98993-0114-4427-ce14-a94e225ce951"
      },
      "execution_count": 132,
      "outputs": [
        {
          "output_type": "execute_result",
          "data": {
            "text/plain": [
              "7"
            ]
          },
          "metadata": {},
          "execution_count": 132
        }
      ]
    },
    {
      "cell_type": "code",
      "source": [
        "predictions[0][7]"
      ],
      "metadata": {
        "id": "Fe64ZAhYNUb6",
        "colab": {
          "base_uri": "https://localhost:8080/"
        },
        "outputId": "821e9a44-34a1-4af7-8605-35a9a5e28a5a"
      },
      "execution_count": 133,
      "outputs": [
        {
          "output_type": "execute_result",
          "data": {
            "text/plain": [
              "0.9997308"
            ]
          },
          "metadata": {},
          "execution_count": 133
        }
      ]
    },
    {
      "cell_type": "code",
      "source": [
        "# 테스트 데이터의 레이블과 맞는지 확인\n",
        "test_labels[0]"
      ],
      "metadata": {
        "id": "N9ACuw9cNVoq",
        "colab": {
          "base_uri": "https://localhost:8080/"
        },
        "outputId": "94834e85-ce11-45c6-e96c-9032d25f862b"
      },
      "execution_count": 134,
      "outputs": [
        {
          "output_type": "execute_result",
          "data": {
            "text/plain": [
              "7"
            ]
          },
          "metadata": {},
          "execution_count": 134
        }
      ]
    },
    {
      "cell_type": "markdown",
      "source": [
        "**새로운 데이터에서 모델 평가**"
      ],
      "metadata": {
        "id": "cp5_wL8NY3y9"
      }
    },
    {
      "cell_type": "code",
      "source": [
        "test_loss, test_acc = model.evaluate(test_images, test_labels)\n",
        "print(f\"테스트 정확도 : {test_acc}\")"
      ],
      "metadata": {
        "id": "u9CRaQS4NbVD",
        "colab": {
          "base_uri": "https://localhost:8080/"
        },
        "outputId": "9b4fce23-fc3c-43df-d540-e6167f7f7586"
      },
      "execution_count": 135,
      "outputs": [
        {
          "output_type": "stream",
          "name": "stdout",
          "text": [
            "313/313 [==============================] - 1s 4ms/step - loss: 0.0600 - accuracy: 0.9811\n",
            "테스트 정확도 : 0.9811000227928162\n"
          ]
        }
      ]
    }
  ]
}