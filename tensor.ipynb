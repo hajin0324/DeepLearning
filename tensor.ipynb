{
  "nbformat": 4,
  "nbformat_minor": 0,
  "metadata": {
    "colab": {
      "provenance": [],
      "authorship_tag": "ABX9TyMbcSID5YNzkLeILGntWVWM",
      "include_colab_link": true
    },
    "kernelspec": {
      "name": "python3",
      "display_name": "Python 3"
    },
    "language_info": {
      "name": "python"
    }
  },
  "cells": [
    {
      "cell_type": "markdown",
      "metadata": {
        "id": "view-in-github",
        "colab_type": "text"
      },
      "source": [
        "<a href=\"https://colab.research.google.com/github/hajin0324/DeepLearning/blob/main/tensor.ipynb\" target=\"_parent\"><img src=\"https://colab.research.google.com/assets/colab-badge.svg\" alt=\"Open In Colab\"/></a>"
      ]
    },
    {
      "cell_type": "markdown",
      "source": [
        "### **텐서(Tensor)**\n",
        "\n",
        "다차원 넘파이 배열, 임의의 차원 개수를 가지는 행렬의 일반화된 모습\n",
        "\n",
        "- 차원(dimension) = 축(axis)"
      ],
      "metadata": {
        "id": "upsP-UrxPgfI"
      }
    },
    {
      "cell_type": "markdown",
      "source": [
        "### **스칼라(랭크-0 텐서)**  \n",
        "\n",
        "하나의 숫자만 담고 있는 텐서  \n",
        "\n",
        "넘파이에서 flot32, flot64 타입의 숫자\n",
        "\n",
        "- **ndim :** 넘파이 배열의 축 개수(rank) 확인\n",
        "\n",
        "    - 스칼라 텐서의 축 개수 =  0"
      ],
      "metadata": {
        "id": "n7Xb4oAGPnan"
      }
    },
    {
      "cell_type": "code",
      "execution_count": 1,
      "metadata": {
        "colab": {
          "base_uri": "https://localhost:8080/"
        },
        "id": "qTM96aGrt4ad",
        "outputId": "097068ed-5a04-4156-da81-bcfd0a063519"
      },
      "outputs": [
        {
          "output_type": "execute_result",
          "data": {
            "text/plain": [
              "array(12)"
            ]
          },
          "metadata": {},
          "execution_count": 1
        }
      ],
      "source": [
        "import numpy as np\n",
        "\n",
        "# 스칼라 생성\n",
        "x = np.array(12)\n",
        "\n",
        "# 스칼라 확인\n",
        "x   "
      ]
    },
    {
      "cell_type": "code",
      "source": [
        "# x의 차원(스칼라)\n",
        "x.ndim "
      ],
      "metadata": {
        "colab": {
          "base_uri": "https://localhost:8080/"
        },
        "id": "gI0MEy_iQAfh",
        "outputId": "45d43eaf-6101-4ed9-cc3b-e44e913b05ab"
      },
      "execution_count": 2,
      "outputs": [
        {
          "output_type": "execute_result",
          "data": {
            "text/plain": [
              "0"
            ]
          },
          "metadata": {},
          "execution_count": 2
        }
      ]
    },
    {
      "cell_type": "markdown",
      "source": [
        "### **벡터(랭크-1 텐서)**\n",
        "\n",
        "숫자의 배열을 나타내며 딱 하나의 축을 가짐"
      ],
      "metadata": {
        "id": "rNo9B1gcQOAA"
      }
    },
    {
      "cell_type": "code",
      "source": [
        "# 벡터 생성\n",
        "x = np.array([12, 3, 6, 14, 7])\n",
        "\n",
        "# 벡터 확인\n",
        "x  "
      ],
      "metadata": {
        "colab": {
          "base_uri": "https://localhost:8080/"
        },
        "id": "Zw8gv_xYQNyg",
        "outputId": "d93eb036-b1e6-4704-e3e5-6f0714628204"
      },
      "execution_count": 3,
      "outputs": [
        {
          "output_type": "execute_result",
          "data": {
            "text/plain": [
              "array([12,  3,  6, 14,  7])"
            ]
          },
          "metadata": {},
          "execution_count": 3
        }
      ]
    },
    {
      "cell_type": "code",
      "source": [
        "# x의 차원(벡터)\n",
        "x.ndim "
      ],
      "metadata": {
        "colab": {
          "base_uri": "https://localhost:8080/"
        },
        "id": "BcWyO5E9QHow",
        "outputId": "6e222096-ad6f-48af-cc4c-c021ae841f1c"
      },
      "execution_count": 4,
      "outputs": [
        {
          "output_type": "execute_result",
          "data": {
            "text/plain": [
              "1"
            ]
          },
          "metadata": {},
          "execution_count": 4
        }
      ]
    },
    {
      "cell_type": "markdown",
      "source": [
        "x는 5개의 원소를 가지므로 5차원 벡터\n",
        "\n",
        "- 5D 벡터 : 하나의 축을 따라 5개의 차원을 가진 것\n",
        "\n",
        "- 5D 텐서 : 5개의 축을 가진 것"
      ],
      "metadata": {
        "id": "ZrhuSGgwQlf3"
      }
    },
    {
      "cell_type": "markdown",
      "source": [
        "###**행렬(랭크-2 텐서)**\n",
        "\n",
        "벡터의 배열이며 2개의 축이 있음 - 행(row), 열(column)"
      ],
      "metadata": {
        "id": "SBPruM8BQoog"
      }
    },
    {
      "cell_type": "code",
      "source": [
        "# 행렬 생성\n",
        "x = np.array([[5, 78, 2, 34, 0],\n",
        "\t\t\t\t\t\t\t[6, 79, 3, 35, 1],\n",
        "\t\t\t\t\t\t\t[7, 80, 4, 36, 2]])\n",
        "\n",
        "# x의 차원(행렬)\n",
        "x.ndim"
      ],
      "metadata": {
        "colab": {
          "base_uri": "https://localhost:8080/"
        },
        "id": "3WpT8xEYQmvX",
        "outputId": "9ebdd897-0537-4c6e-a618-5a7f4c836375"
      },
      "execution_count": 5,
      "outputs": [
        {
          "output_type": "execute_result",
          "data": {
            "text/plain": [
              "2"
            ]
          },
          "metadata": {},
          "execution_count": 5
        }
      ]
    },
    {
      "cell_type": "markdown",
      "source": [
        "- 행 : 첫 번째 축에 놓여 있는 원소  \n",
        "ex. [5, 78, 2, 34, 0]\n",
        "\n",
        "- 열 : 두 번째 축에 놓여 있는 원소  \n",
        "ex. [5, 6, 7]"
      ],
      "metadata": {
        "id": "_RcEHwMbQ00n"
      }
    },
    {
      "cell_type": "markdown",
      "source": [
        "###**랭크-3 텐서와 더 높은 랭크의 텐서**\n",
        "\n",
        "행렬들을 하나의 새로운 배열로 합치면 숫자가 채워진 직육면체 형태로 해석할  수 있는 랭크-3 생성"
      ],
      "metadata": {
        "id": "TBpYTQu-Q4X3"
      }
    },
    {
      "cell_type": "code",
      "source": [
        "# 랭크-3 텐서 생성\n",
        "x = np.array([[[5, 78, 2, 34, 0],\n",
        "\t\t\t\t\t\t\t [6, 79, 3, 35, 1],\n",
        "\t\t\t\t\t\t\t [7, 80, 4, 36, 2]],\n",
        "\t\t\t\t\t\t\t[[5, 78, 2, 34, 0],\n",
        "\t\t\t\t\t\t\t [6, 79, 3, 35, 1],\n",
        "\t\t\t\t\t\t\t [7, 80, 4, 36, 2]],\n",
        "\t\t\t\t\t\t\t[[5, 78, 2, 34, 0],\n",
        "\t\t\t\t\t\t\t [6, 79, 3, 35, 1],\n",
        "\t\t\t\t\t\t\t [7, 80, 4, 36, 2]]])\n",
        "\n",
        "# x의 차원(랭크-3 텐서)\n",
        "x.ndim"
      ],
      "metadata": {
        "colab": {
          "base_uri": "https://localhost:8080/"
        },
        "id": "vcDPUnUCQ70K",
        "outputId": "9e4c39b9-5d3f-4069-d122-7484733a6bfe"
      },
      "execution_count": 6,
      "outputs": [
        {
          "output_type": "execute_result",
          "data": {
            "text/plain": [
              "3"
            ]
          },
          "metadata": {},
          "execution_count": 6
        }
      ]
    },
    {
      "cell_type": "markdown",
      "source": [
        "랭크-3 텐서들을 하나의 배열로 합치면 랭크-4 텐서가 만들어짐"
      ],
      "metadata": {
        "id": "jQox3IpWRB6o"
      }
    },
    {
      "cell_type": "markdown",
      "source": [
        "###**텐서의 핵심 속성**\n",
        "\n",
        "- 축의 개수(랭크)\n",
        "\n",
        "- 크기(shape) : 텐서의 각 축을 따라 얼마나 많은 차원이 있는지를 나타낸 파이썬의 튜플\n",
        "\n",
        "    - 스칼라 : ( )\n",
        "\n",
        "    - 벡터 : (5, )\n",
        "\n",
        "    - 행렬 : (3, 5)\n",
        "\n",
        "    - 랭크-3 텐서 : (3, 3, 5)\n",
        "    \n",
        "- 데이터 타입(파이썬 라이브러리 : dtype) : 텐서에 포함된 데이터의 타입  \n",
        "ex. float16, float32, float64, uint8(unsigned int), string"
      ],
      "metadata": {
        "id": "IC_zphb1RCgo"
      }
    },
    {
      "cell_type": "markdown",
      "source": [
        "### **MNIST 데이터셋으로 tensor 확인**\n",
        "**데이터셋 불러내기**"
      ],
      "metadata": {
        "id": "AYHLFQBhRHpA"
      }
    },
    {
      "cell_type": "code",
      "source": [
        "from tensorflow.keras.datasets import mnist\n",
        "(train_images, train_labels), (test_images, test_labels) = mnist.load_data()"
      ],
      "metadata": {
        "colab": {
          "base_uri": "https://localhost:8080/"
        },
        "id": "9Afyi9hqRSEY",
        "outputId": "369ad997-ef3c-4e51-aa49-d84e145a10e8"
      },
      "execution_count": 7,
      "outputs": [
        {
          "output_type": "stream",
          "name": "stdout",
          "text": [
            "Downloading data from https://storage.googleapis.com/tensorflow/tf-keras-datasets/mnist.npz\n",
            "11490434/11490434 [==============================] - 0s 0us/step\n"
          ]
        }
      ]
    },
    {
      "cell_type": "markdown",
      "source": [
        "**텐서의 핵심 속성 확인**"
      ],
      "metadata": {
        "id": "KVzNO3MSStCY"
      }
    },
    {
      "cell_type": "code",
      "source": [
        "# train_images 배열의 축의 개수 확인\n",
        "train_images.ndim"
      ],
      "metadata": {
        "colab": {
          "base_uri": "https://localhost:8080/"
        },
        "id": "fOwmtApFRsbQ",
        "outputId": "4d88ffce-5a19-46e4-ce6b-9b4b26cb8a8d"
      },
      "execution_count": 8,
      "outputs": [
        {
          "output_type": "execute_result",
          "data": {
            "text/plain": [
              "3"
            ]
          },
          "metadata": {},
          "execution_count": 8
        }
      ]
    },
    {
      "cell_type": "code",
      "source": [
        "# 배열의 크기\n",
        "train_images.shape"
      ],
      "metadata": {
        "colab": {
          "base_uri": "https://localhost:8080/"
        },
        "id": "fo5yvdqjSx8B",
        "outputId": "504603e8-3cb3-48aa-e1dc-49fbe9c5f211"
      },
      "execution_count": 9,
      "outputs": [
        {
          "output_type": "execute_result",
          "data": {
            "text/plain": [
              "(60000, 28, 28)"
            ]
          },
          "metadata": {},
          "execution_count": 9
        }
      ]
    },
    {
      "cell_type": "code",
      "source": [
        "# dtype 속성으로 데이터 타입 확인\n",
        "train_images.dtype"
      ],
      "metadata": {
        "colab": {
          "base_uri": "https://localhost:8080/"
        },
        "id": "E8S_KNf3Szjg",
        "outputId": "94848be6-d1a5-4aec-b536-6aee7bf5249e"
      },
      "execution_count": 10,
      "outputs": [
        {
          "output_type": "execute_result",
          "data": {
            "text/plain": [
              "dtype('uint8')"
            ]
          },
          "metadata": {},
          "execution_count": 10
        }
      ]
    },
    {
      "cell_type": "markdown",
      "source": [
        "28 * 28 크기의 정수 행렬 6만 개가 있는 8비트 정수형 랭크-3 텐서"
      ],
      "metadata": {
        "id": "_T4__SX4S2XQ"
      }
    },
    {
      "cell_type": "markdown",
      "source": [
        "**Matplotlib 사용 : 데이터 시각화 라이브러리**"
      ],
      "metadata": {
        "id": "UF1_cq64TXJZ"
      }
    },
    {
      "cell_type": "code",
      "source": [
        "import matplotlib.pyplot as plt\n",
        "\n",
        "# 다섯 번째 이미지 출력\n",
        "digit = train_images[4]\n",
        "plt.imshow(digit, cmap=plt.cm.binary)\n",
        "plt.show()"
      ],
      "metadata": {
        "colab": {
          "base_uri": "https://localhost:8080/",
          "height": 430
        },
        "id": "CMxC8220S1Q4",
        "outputId": "0149200d-da84-4cd7-db44-79a22886ac8c"
      },
      "execution_count": 11,
      "outputs": [
        {
          "output_type": "display_data",
          "data": {
            "text/plain": [
              "<Figure size 640x480 with 1 Axes>"
            ],
            "image/png": "[encoded data removed]"
          },
          "metadata": {}
        }
      ]
    },
    {
      "cell_type": "code",
      "source": [
        "# 다섯 번째 이미지의 label\n",
        "train_labels[4]"
      ],
      "metadata": {
        "colab": {
          "base_uri": "https://localhost:8080/"
        },
        "id": "wBFdlqvuTvZZ",
        "outputId": "68d79b7e-200e-4cbc-b3cd-79b7c1cd1f5e"
      },
      "execution_count": 12,
      "outputs": [
        {
          "output_type": "execute_result",
          "data": {
            "text/plain": [
              "9"
            ]
          },
          "metadata": {},
          "execution_count": 12
        }
      ]
    },
    {
      "cell_type": "markdown",
      "source": [
        "### **Numpy로 텐서 조작**  \n",
        "\n",
        "train_images[i] 같은 형식으로 첫 번째 축을 따라 특정 숫자 이미지 선택  \n",
        "\n",
        "슬라이싱(slicing) : 배열에 있는 특정 원소들을 선택하는 것"
      ],
      "metadata": {
        "id": "fGHnnrM-ZoQy"
      }
    },
    {
      "cell_type": "code",
      "source": [
        "# 11번째에서 101번째까지 숫자를 선택\n",
        "my_slice = train_images[10:100]\n",
        "my_slice.shape"
      ],
      "metadata": {
        "colab": {
          "base_uri": "https://localhost:8080/"
        },
        "id": "qEM3snjmZnw6",
        "outputId": "7e95fac2-430a-4998-f3fd-5030c32cc23a"
      },
      "execution_count": 13,
      "outputs": [
        {
          "output_type": "execute_result",
          "data": {
            "text/plain": [
              "(90, 28, 28)"
            ]
          },
          "metadata": {},
          "execution_count": 13
        }
      ]
    },
    {
      "cell_type": "markdown",
      "source": [
        "더 자세한 표기법은 각 배열의 축을 따라 슬라이싱의 시작 인덱스와 마지막 인덱스를 지정"
      ],
      "metadata": {
        "id": "190N-daOZ7da"
      }
    },
    {
      "cell_type": "code",
      "source": [
        "my_slice = train_images[10:100, :, :]        # 이전 예와 동일\n",
        "my_slice.shape  # (90, 28, 28)\n",
        "my_slice = train_images[10:100, 0:28, 0:28]  # 이전 예와 동일\n",
        "my_slice.shape  # (90, 28, 28)\n",
        "\n",
        "# 이미지의 오른쪽 아래 14 * 14 픽셀을 선택\n",
        "my_slice = train_images[:, 14:, 14:]\n",
        "\n",
        "# 음수 인덱스 사용, 정중앙에 위치한 14 * 14 픽셀 조각을 선택\n",
        "my_slice = train_images[:, 7:-7, 7:-7]"
      ],
      "metadata": {
        "id": "09tCpdK1T0Ox"
      },
      "execution_count": 14,
      "outputs": []
    },
    {
      "cell_type": "markdown",
      "source": [
        "### **배치 데이터**  \n",
        "\n",
        "샘플 축(sample axis) : 모든 데이터 텐서의 첫 번째 축(=sample dimension)  \n",
        "\n",
        "한 번에 전체 데이터셋을 처리하지 않고 데이터를 작은 배치로 나눔\n"
      ],
      "metadata": {
        "id": "jUmjtte5aFdK"
      }
    },
    {
      "cell_type": "code",
      "source": [
        "# MNIST 숫자 데이터에서 크기가 128인 배치 하나\n",
        "batch = train_images[:128]\n",
        "\n",
        "# 다음 배치\n",
        "batch = train_images[128:256]\n",
        "\n",
        "# n번째 배치\n",
        "n = 3\n",
        "batch = train_images[128 * n:128 * (n + 1)]"
      ],
      "metadata": {
        "id": "G5QiPuYLaEF7"
      },
      "execution_count": 15,
      "outputs": []
    },
    {
      "cell_type": "markdown",
      "source": [
        "첫 번째 축 : 배치 축(batch axis) or 배치 차원(batch dimension)"
      ],
      "metadata": {
        "id": "SJ_1C3-heIok"
      }
    },
    {
      "cell_type": "markdown",
      "source": [
        "###**텐서의 실제 사례**\n",
        "- 벡터 데이터\n",
        "\n",
        "    - (samples, features)\n",
        "\n",
        "    - 랭크-2 텐서, 각 샘플은 수치 속성으로 구성된 벡터\n",
        "\n",
        "- 시계열 데이터, 시퀀스 데이터\n",
        "\n",
        "    - (samples, timesteps, features)\n",
        "\n",
        "    - 랭크-3 텐서, 각 샘플은 특성 벡터의 시퀀스\n",
        "\n",
        "- 이미지\n",
        "\n",
        "    - (samples, height, width, channels) or (samples, channels, height, width)\n",
        "\n",
        "    - 랭크-4 텐서, 각 샘플은 픽셀의 2D 격자, 각 픽셀은 수치 값(channel)의 벡터\n",
        "\n",
        "- 동영상\n",
        "\n",
        "    - (samples, frames, height, width, channels) or (samples, frames, channels, height, width)\n",
        "    \n",
        "    - 랭크-5 텐서, 각 샘플은 이미지의 시퀀스"
      ],
      "metadata": {
        "id": "v82ZvRQOguHM"
      }
    },
    {
      "cell_type": "markdown",
      "source": [
        "###**벡터 데이터**\n",
        "\n",
        "하나의 데이터 포인트가 벡터로 인코딩\n",
        "\n",
        "- 첫 번째 축 : 샘플 축\n",
        "\n",
        "- 두 번째 축 : 특성 축\n",
        "\n",
        "예시\n",
        "\n",
        "- 사람의 나이, 성별, 소득으로 구성된 인구 통계 데이터\n",
        "\n",
        "    - 각 사람은 3개의 값을 가진 벡터로 구성\n",
        "\n",
        "    - 10만 명이 포함된 전체 데이터셋 : (10000, 3)\n",
        "\n",
        "- 2만 개의 단어로 표현된 텍스트 문서 데이터셋\n",
        "\n",
        "    - 각 문서는 2만 개의 원소를 가진 벡터로 인코딩\n",
        "    \n",
        "    - 500개의 문서로 이루어진 전체 데이터셋 : (500, 20000)"
      ],
      "metadata": {
        "id": "AYo0xlbKg1Sl"
      }
    },
    {
      "cell_type": "markdown",
      "source": [
        "###**시계열 데이터 또는 시퀀스 데이터**\n",
        "\n",
        "데이터 시간(연속된 순서)가 중요할 때는 시간 축을 포함하여 랭크-3 텐서로 저장  \n",
        "\n",
        "각 샘플은 벡터의 시퀀스(랭크-2 텐서)로 인코딩  \n",
        "\n",
        "시간 축 : 두 번째 축(인덱스가 1인 축)\n",
        "\n",
        "- 주식 가격 데이터셋\n",
        "\n",
        "    - 1분마다 현재 주식 가격, 지난 1분 동안의 최고 가격과 최소 가격 저장\n",
        "\n",
        "    - 하루 동안의 거래 : (390, 3)\n",
        "\n",
        "    - 250일치의 데이터 : (250, 390, 3)\n",
        "\n",
        "- 트윗 데이터셋\n",
        "\n",
        "    - 각 트윗은 128개의 알파벳으로 구성된 280개의 문자 시퀀스\n",
        "\n",
        "    - 각 문자가 128개의 크기인 이진 벡터로 인코딩(해당 문자의 인덱스만 1, 나머지는 0)\n",
        "\n",
        "    - 각 트윗 : (280, 128)\n",
        "    \n",
        "    - 100만 개의 트윗으로 구성된 데이터셋 : (100000, 280, 128)"
      ],
      "metadata": {
        "id": "0XUWy_QD3cLd"
      }
    },
    {
      "cell_type": "markdown",
      "source": [
        "###**이미지 데이터**\n",
        "\n",
        "이미지는 전형적으로 높이, 너비, 컬러 채널의 3차원\n",
        "\n",
        "흑백 이미지는 하나의 컬러 채널만 가지고 있어 랭크-2 텐서로 저장될 수 있음\n",
        "\n",
        "- 256 * 256 크기의 이미지에 대한 128개의 배치\n",
        "\n",
        "    - 흑백 이미지 : (128, 256, 256, 1)\n",
        "\n",
        "    - 컬러 이미지 : (128, 256, 256, 3)\n",
        "    \n",
        "\n",
        "이미지 텐서의 크기를 지정하는 방식\n",
        "\n",
        "- 채널 마지막 방식 : 컬러 채널의 깊이를 끝에 놓음\n",
        "\n",
        "    - (samples, height, width, color_depth)\n",
        "    \n",
        "- 채널 우선 방식 : 컬러 채널의 깊이를 배치 축 바로 뒤에 놓음\n",
        "\n",
        "    - (samples, color_depth, height, width)"
      ],
      "metadata": {
        "id": "hGLExeJe3lxN"
      }
    },
    {
      "cell_type": "markdown",
      "source": [
        "###**비디오 데이터**\n",
        "\n",
        "하나의 비디오는 프레임의 연속이고 각 프레임은 하나의 컬러 이미지\n",
        "\n",
        "- 프레임 : (height, width, color_depth)\n",
        "\n",
        "- 프레임의 연속 : (frames, height, width, color_depth)\n",
        "\n",
        "- 여러 비디오의 배치 : (samples, frames, height, width, color_depth)"
      ],
      "metadata": {
        "id": "2myUBi7i5AR0"
      }
    }
  ]
}